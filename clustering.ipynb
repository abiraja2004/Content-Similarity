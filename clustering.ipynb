{
 "cells": [
  {
   "cell_type": "markdown",
   "metadata": {},
   "source": [
    "## Clustering of Documents"
   ]
  },
  {
   "cell_type": "markdown",
   "metadata": {},
   "source": [
    "### What this notebook does (as of now): \n",
    "Loads the text files from a corpus, preprocesses the files, breaks the books into small paragraphs or chunks. TF-IDF vectors will be extracted from each paragraph which will be used to cluster the documents. "
   ]
  },
  {
   "cell_type": "code",
   "execution_count": 1,
   "metadata": {
    "collapsed": true
   },
   "outputs": [],
   "source": [
    "import nltk\n",
    "import os\n",
    "from nltk.corpus import stopwords"
   ]
  },
  {
   "cell_type": "markdown",
   "metadata": {},
   "source": [
    "A function to load a book given the folder and filename. "
   ]
  },
  {
   "cell_type": "code",
   "execution_count": 2,
   "metadata": {
    "collapsed": true
   },
   "outputs": [],
   "source": [
    "def loadBook(folder,filename):\n",
    "    filepath=folder + \"/\" + filename\n",
    "    f=open(filepath)\n",
    "    raw=f.read()\n",
    "    return(raw)"
   ]
  },
  {
   "cell_type": "markdown",
   "metadata": {},
   "source": [
    "Basic preprocessing of a book. Stemming needs to be added. "
   ]
  },
  {
   "cell_type": "code",
   "execution_count": 3,
   "metadata": {
    "collapsed": false
   },
   "outputs": [],
   "source": [
    "def preProcess(book):\n",
    "    book=book.strip()\n",
    "    words=nltk.word_tokenize(book)\n",
    "    words=[w.lower() for w in words if w not in stopwords.words('english')]\n",
    "    words=[w for w in words if len(w)>1]\n",
    "    return(words)"
   ]
  },
  {
   "cell_type": "markdown",
   "metadata": {},
   "source": [
    "A function that converts a given book into smaller chunks. "
   ]
  },
  {
   "cell_type": "code",
   "execution_count": 25,
   "metadata": {
    "collapsed": false
   },
   "outputs": [],
   "source": [
    "def createChunks(words,filename,text_list,id_list):\n",
    "    i=0\n",
    "    count=0\n",
    "    while(i<len(words)):\n",
    "        if((i+1000)<len(words)):\n",
    "            chunk=words[i:i+1000]\n",
    "            chunk=\" \".join(chunk)\n",
    "        else:\n",
    "            chunk=words[i:len(words)]\n",
    "            chunk=\" \".join(chunk)\n",
    "        i=i+1000\n",
    "        count=count+1\n",
    "        text_list.append(chunk)\n",
    "        id_list.append(filename + \"-\" + str(count))\n",
    "    return(text_list,id_list)"
   ]
  },
  {
   "cell_type": "markdown",
   "metadata": {},
   "source": [
    "Loading Karl Marx's books into a list. "
   ]
  },
  {
   "cell_type": "code",
   "execution_count": 26,
   "metadata": {
    "collapsed": true
   },
   "outputs": [],
   "source": [
    "marx_books=[]\n",
    "marx_id=[]\n",
    "folder=\"MarxText\""
   ]
  },
  {
   "cell_type": "code",
   "execution_count": 27,
   "metadata": {
    "collapsed": false
   },
   "outputs": [],
   "source": [
    "for file in os.listdir(folder):\n",
    "    book=loadBook(folder,file)\n",
    "    words=preProcess(book)\n",
    "    createChunks(words,file,marx_books,marx_id)"
   ]
  },
  {
   "cell_type": "markdown",
   "metadata": {},
   "source": [
    "Loading Hegel's books into a list. "
   ]
  },
  {
   "cell_type": "code",
   "execution_count": 29,
   "metadata": {
    "collapsed": true
   },
   "outputs": [],
   "source": [
    "hegel_books=[]\n",
    "hegel_id=[]\n",
    "folder=\"HegelText\""
   ]
  },
  {
   "cell_type": "code",
   "execution_count": 32,
   "metadata": {
    "collapsed": false
   },
   "outputs": [
    {
     "name": "stdout",
     "output_type": "stream",
     "text": [
      "Philosophy of Mind.txt\n",
      "Science of Logic.txt\n",
      "Phenomenology of Mind.txt\n",
      "Philosophy of Spirit.txt\n"
     ]
    }
   ],
   "source": [
    "for file in os.listdir(folder):\n",
    "    print(file)\n",
    "    book=loadBook(folder,file)\n",
    "    words=preProcess(book)\n",
    "    createChunks(words,file,hegel_books,hegel_id)"
   ]
  },
  {
   "cell_type": "code",
   "execution_count": 33,
   "metadata": {
    "collapsed": false
   },
   "outputs": [
    {
     "data": {
      "text/plain": [
       "212"
      ]
     },
     "execution_count": 33,
     "metadata": {},
     "output_type": "execute_result"
    }
   ],
   "source": [
    "len(hegel_id)"
   ]
  },
  {
   "cell_type": "code",
   "execution_count": 35,
   "metadata": {
    "collapsed": false
   },
   "outputs": [
    {
     "data": {
      "text/plain": [
       "308"
      ]
     },
     "execution_count": 35,
     "metadata": {},
     "output_type": "execute_result"
    }
   ],
   "source": [
    "len(marx_id)"
   ]
  }
 ],
 "metadata": {
  "anaconda-cloud": {},
  "kernelspec": {
   "display_name": "Python [conda root]",
   "language": "python",
   "name": "conda-root-py"
  },
  "language_info": {
   "codemirror_mode": {
    "name": "ipython",
    "version": 3
   },
   "file_extension": ".py",
   "mimetype": "text/x-python",
   "name": "python",
   "nbconvert_exporter": "python",
   "pygments_lexer": "ipython3",
   "version": "3.5.2"
  }
 },
 "nbformat": 4,
 "nbformat_minor": 1
}
